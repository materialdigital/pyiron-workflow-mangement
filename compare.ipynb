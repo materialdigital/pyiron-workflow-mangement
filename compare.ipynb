{
 "cells": [
  {
   "cell_type": "code",
   "execution_count": 1,
   "metadata": {},
   "outputs": [],
   "source": [
    "import os"
   ]
  },
  {
   "cell_type": "code",
   "execution_count": 2,
   "metadata": {},
   "outputs": [],
   "source": [
    "import git"
   ]
  },
  {
   "cell_type": "code",
   "execution_count": 3,
   "metadata": {},
   "outputs": [],
   "source": [
    "import collections"
   ]
  },
  {
   "cell_type": "code",
   "execution_count": 4,
   "metadata": {},
   "outputs": [],
   "source": [
    "import numpy as np"
   ]
  },
  {
   "cell_type": "code",
   "execution_count": 5,
   "metadata": {},
   "outputs": [],
   "source": [
    "from git import Repo"
   ]
  },
  {
   "cell_type": "code",
   "execution_count": 6,
   "metadata": {},
   "outputs": [],
   "source": [
    "import itertools"
   ]
  },
  {
   "cell_type": "code",
   "execution_count": 7,
   "metadata": {},
   "outputs": [],
   "source": [
    "from conda_merge import merge_dependencies, read_file"
   ]
  },
  {
   "cell_type": "markdown",
   "metadata": {},
   "source": [
    "# List of workflows provided from the app store "
   ]
  },
  {
   "cell_type": "code",
   "execution_count": 8,
   "metadata": {},
   "outputs": [],
   "source": [
    "workflow_dict = { \n",
    "    \"pyiron-workflow-damask\": \"https://github.com/materialdigital/pyiron-workflow-damask.git\",\n",
    "    \"pyiron-workflow-phasediagram\": \"https://github.com/materialdigital/pyiron-workflow-phasediagram.git\",\n",
    "    \"pyiron-workflow-thermalexpansion\": \"https://github.com/materialdigital/pyiron-workflow-thermalexpansion.git\",\n",
    "    \"pyiron-workflow-TEMImageSegmentation\": \"https://github.com/materialdigital/pyiron-workflow-TEMImageSegmentation.git\"\n",
    "}"
   ]
  },
  {
   "cell_type": "markdown",
   "metadata": {},
   "source": [
    "# Clone the selected workflows "
   ]
  },
  {
   "cell_type": "code",
   "execution_count": 9,
   "metadata": {},
   "outputs": [],
   "source": [
    "selected_workflows_dict = workflow_dict.copy()"
   ]
  },
  {
   "cell_type": "code",
   "execution_count": 10,
   "metadata": {},
   "outputs": [
    {
     "data": {
      "text/plain": [
       "'/home/jovyan'"
      ]
     },
     "execution_count": 10,
     "metadata": {},
     "output_type": "execute_result"
    }
   ],
   "source": [
    "working_dir = os.path.abspath(\".\")\n",
    "working_dir"
   ]
  },
  {
   "cell_type": "code",
   "execution_count": 11,
   "metadata": {},
   "outputs": [],
   "source": [
    "git_lst, git_name_lst = [], []\n",
    "for k, v in selected_workflows_dict.items():\n",
    "    git_repo_path = os.path.join(working_dir, k)  \n",
    "    git_lst.append(git_repo_path)\n",
    "    git_name_lst.append(k)\n",
    "    if not os.path.exists(git_repo_path):\n",
    "        git.Git(working_dir).clone(v)"
   ]
  },
  {
   "cell_type": "markdown",
   "metadata": {},
   "source": [
    "# Extract the dependencies for each git tag "
   ]
  },
  {
   "cell_type": "code",
   "execution_count": 12,
   "metadata": {},
   "outputs": [],
   "source": [
    "repo_dep_dict = {}\n",
    "for git_repo, name in zip(git_lst, git_name_lst):\n",
    "    test_repo = Repo(git_repo)\n",
    "    dep_dict = {}\n",
    "    for git_tag in test_repo.tags:\n",
    "        g = git.Git(git_repo)\n",
    "        g.checkout(git_tag)\n",
    "        repo_env = read_file(os.path.join(git_repo, \"binder\", \"environment.yml\"))\n",
    "        dep_dict[git_tag.name] = [l.replace(\" \", \"\") for l in repo_env.get('dependencies')]\n",
    "    repo_dep_dict[name] = dep_dict"
   ]
  },
  {
   "cell_type": "code",
   "execution_count": 13,
   "metadata": {},
   "outputs": [
    {
     "data": {
      "text/plain": [
       "[('v0.0.1', 'v0.0.1', 'v0.0.1', 'v0.0.1'),\n",
       " ('v0.0.1', 'v0.0.1', 'v0.0.2', 'v0.0.1')]"
      ]
     },
     "execution_count": 13,
     "metadata": {},
     "output_type": "execute_result"
    }
   ],
   "source": [
    "tag_lst = list(itertools.product(*[list(repo_dict.keys()) for repo_dict in repo_dep_dict.values()]))\n",
    "tag_lst"
   ]
  },
  {
   "cell_type": "code",
   "execution_count": 14,
   "metadata": {},
   "outputs": [
    {
     "data": {
      "text/plain": [
       "[(['pyiron=0.4.0',\n",
       "   'lammps=2020.12.24',\n",
       "   'sqsgenerator=0.0.5',\n",
       "   'damask=3.0.0=py37h9964bdb_8',\n",
       "   'vtk=9.0.1',\n",
       "   'itkwidgets=0.32.0',\n",
       "   'pyvista=0.27.4',\n",
       "   'h5py=3.1.0',\n",
       "   'nglview=2.7.7',\n",
       "   'seaborn=0.11.1',\n",
       "   'papermill'],\n",
       "  ['pyiron=0.4.0',\n",
       "   'pyiron_atomistics=0.2.2',\n",
       "   'lammps=2020.12.24',\n",
       "   'nglview=2.7.7',\n",
       "   'sqsgenerator=0.0.5',\n",
       "   'sphinxdft=2.7.0',\n",
       "   'papermill'],\n",
       "  ['pyiron=0.3.23', 'lammps=2020.12.24', 'nglview=2.7.7', 'papermill'],\n",
       "  ['pyiron_base=0.1.44', 'temmeta=0.0.6', 'pystem=0.0.22', 'papermill']),\n",
       " (['pyiron=0.4.0',\n",
       "   'lammps=2020.12.24',\n",
       "   'sqsgenerator=0.0.5',\n",
       "   'damask=3.0.0=py37h9964bdb_8',\n",
       "   'vtk=9.0.1',\n",
       "   'itkwidgets=0.32.0',\n",
       "   'pyvista=0.27.4',\n",
       "   'h5py=3.1.0',\n",
       "   'nglview=2.7.7',\n",
       "   'seaborn=0.11.1',\n",
       "   'papermill'],\n",
       "  ['pyiron=0.4.0',\n",
       "   'pyiron_atomistics=0.2.2',\n",
       "   'lammps=2020.12.24',\n",
       "   'nglview=2.7.7',\n",
       "   'sqsgenerator=0.0.5',\n",
       "   'sphinxdft=2.7.0',\n",
       "   'papermill'],\n",
       "  ['pyiron=0.4.0', 'lammps=2020.12.24', 'nglview=2.7.7', 'papermill'],\n",
       "  ['pyiron_base=0.1.44', 'temmeta=0.0.6', 'pystem=0.0.22', 'papermill'])]"
      ]
     },
     "execution_count": 14,
     "metadata": {},
     "output_type": "execute_result"
    }
   ],
   "source": [
    "diff_set_lst = list(itertools.product(*[list(repo_dict.values()) for repo_dict in repo_dep_dict.values()]))\n",
    "diff_set_lst"
   ]
  },
  {
   "cell_type": "markdown",
   "metadata": {},
   "source": [
    "# Merge dependencies "
   ]
  },
  {
   "cell_type": "code",
   "execution_count": 15,
   "metadata": {},
   "outputs": [],
   "source": [
    "conflict_dep_lst = []\n",
    "for diff_set in diff_set_lst:\n",
    "    merg_deps_lst = merge_dependencies(diff_set)\n",
    "    dep_name_lst, dep_version_lst, dep_build_lst = [], [], []\n",
    "    for dl in [d.split(\"=\") for d in merg_deps_lst]:\n",
    "        if len(dl) == 1:\n",
    "            dl += [\"\", \"\"]\n",
    "        elif len(dl) == 2:\n",
    "            dl += [\"\"]\n",
    "        dep_name_lst.append(dl[0])\n",
    "        dep_version_lst.append(dl[1])\n",
    "        dep_build_lst.append(dl[2])\n",
    "    dep_name_lst, dep_version_lst, dep_build_lst = np.array(dep_name_lst), np.array(dep_version_lst), np.array(dep_build_lst)\n",
    "    dep_duplicates = [item for item, count in collections.Counter(dep_name_lst).items() if count > 1]\n",
    "    conflict_lst = []\n",
    "    for dep in dep_duplicates:\n",
    "        dup_ind = dep_name_lst == dep\n",
    "        ver_ind = dep_version_lst != \"\"\n",
    "        build_ind = dep_build_lst != \"\"\n",
    "        dep_red_version_lst = dep_version_lst[dup_ind & ver_ind]\n",
    "        dep_red_build_lst = dep_version_lst[dup_ind & ver_ind & build_ind]\n",
    "        if len(set(dep_red_version_lst)) > 1 or len(set(dep_red_build_lst)) > 1:\n",
    "            conflict_lst.append([dep, list(set(dep_red_version_lst)), list(set(dep_red_build_lst))])\n",
    "    conflict_dep_lst.append(conflict_lst)"
   ]
  },
  {
   "cell_type": "code",
   "execution_count": 16,
   "metadata": {},
   "outputs": [
    {
     "data": {
      "text/plain": [
       "1"
      ]
     },
     "execution_count": 16,
     "metadata": {},
     "output_type": "execute_result"
    }
   ],
   "source": [
    "selected_combination_ind = [len(l) for l in conflict_dep_lst].index(0)\n",
    "selected_combination_ind"
   ]
  },
  {
   "cell_type": "code",
   "execution_count": 17,
   "metadata": {},
   "outputs": [
    {
     "data": {
      "text/plain": [
       "{'pyiron-workflow-damask': 'v0.0.1',\n",
       " 'pyiron-workflow-phasediagram': 'v0.0.1',\n",
       " 'pyiron-workflow-thermalexpansion': 'v0.0.2',\n",
       " 'pyiron-workflow-TEMImageSegmentation': 'v0.0.1'}"
      ]
     },
     "execution_count": 17,
     "metadata": {},
     "output_type": "execute_result"
    }
   ],
   "source": [
    "{n:tag for n, tag in zip(repo_dep_dict.keys(), tag_lst[selected_combination_ind])}"
   ]
  },
  {
   "cell_type": "code",
   "execution_count": 18,
   "metadata": {},
   "outputs": [
    {
     "data": {
      "text/plain": [
       "[[['pyiron', ['0.3.23', '0.4.0'], []]], []]"
      ]
     },
     "execution_count": 18,
     "metadata": {},
     "output_type": "execute_result"
    }
   ],
   "source": [
    "conflict_dep_lst"
   ]
  },
  {
   "cell_type": "code",
   "execution_count": null,
   "metadata": {},
   "outputs": [],
   "source": []
  }
 ],
 "metadata": {
  "kernelspec": {
   "display_name": "Python 3",
   "language": "python",
   "name": "python3"
  },
  "language_info": {
   "codemirror_mode": {
    "name": "ipython",
    "version": 3
   },
   "file_extension": ".py",
   "mimetype": "text/x-python",
   "name": "python",
   "nbconvert_exporter": "python",
   "pygments_lexer": "ipython3",
   "version": "3.7.8"
  }
 },
 "nbformat": 4,
 "nbformat_minor": 5
}
